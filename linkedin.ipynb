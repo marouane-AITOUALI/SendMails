{
 "cells": [
  {
   "cell_type": "code",
   "execution_count": 34,
   "id": "f45d2de2-bf38-4f43-867b-7f9886111879",
   "metadata": {},
   "outputs": [],
   "source": [
    "from selenium import webdriver\n",
    "from selenium.webdriver.common.keys import Keys\n",
    "from selenium.webdriver.common.by import By\n",
    "from selenium import webdriver\n",
    "from selenium.webdriver.chrome.service import Service\n",
    "from webdriver_manager.chrome import ChromeDriverManager\n",
    "import time\n",
    "\n",
    "# Paramètres\n",
    "email = \"example@mail.com\"\n",
    "mot_de_passe = \"password\"\n",
    "url_linkedin = \"https://www.linkedin.com/\"\n",
    "\n",
    "# Initialiser le navigateur\n",
    "driver = webdriver.Chrome(service=Service(ChromeDriverManager().install()))  # Assurez-vous d'avoir le pilote Chrome installé\n",
    "\n",
    "# Accéder à LinkedIn\n",
    "driver.get(url_linkedin)\n",
    "\n",
    "\n"
   ]
  },
  {
   "cell_type": "code",
   "execution_count": 35,
   "id": "4c760b5a-ded0-4b60-b126-58c7dfbe7b4f",
   "metadata": {},
   "outputs": [],
   "source": [
    "# Accept cookies \n",
    "cookies = driver.find_element(By.XPATH,'/html/body/div[1]/div/section/div/div[2]/button[1]')\n",
    "cookies.click()\n",
    "time.sleep(3)"
   ]
  },
  {
   "cell_type": "code",
   "execution_count": 36,
   "id": "c809d400-4759-4440-b3f6-016512ba1730",
   "metadata": {},
   "outputs": [],
   "source": [
    "# Remplir le formulaire de connexion\n",
    "email_input = driver.find_element(By.XPATH, \"/html/body/main/section[1]/div/div/form/div[1]/div[1]/div/div/input\")\n",
    "password_input = driver.find_element(By.XPATH, \"/html/body/main/section[1]/div/div/form/div[1]/div[2]/div/div/input\")\n",
    "driver.find_element\n",
    "\n",
    "email_input.send_keys(email)\n",
    "password_input.send_keys(mot_de_passe)\n",
    "\n",
    "# Envoyer le formulaire de connexion\n",
    "password_input.send_keys(Keys.RETURN)\n",
    "\n",
    "# Attendre que la page se charge\n",
    "time.sleep(3)"
   ]
  },
  {
   "cell_type": "code",
   "execution_count": 37,
   "id": "bef01c99-8312-447e-8970-3ce11baa4190",
   "metadata": {},
   "outputs": [],
   "source": [
    "emplois = driver.find_element(By.XPATH,\"/html/body/div[6]/header/div/nav/ul/li[3]/a\")\n",
    "emplois.click()\n",
    "time.sleep(6)"
   ]
  },
  {
   "cell_type": "code",
   "execution_count": 38,
   "id": "33932887-b6b8-4d08-894c-a95405d6ce83",
   "metadata": {},
   "outputs": [],
   "source": [
    "recherche = driver.find_element(By.XPATH,'/html/body/div[6]/header/div/div/div/div[2]/div[2]/div/div/input[1]')\n",
    "recherche.send_keys('developpeur')\n",
    "time.sleep(2)\n",
    "# Simuler la pression de la touche \"Entrée\"\n",
    "recherche.send_keys(Keys.RETURN)\n",
    "time.sleep(4)\n",
    "driver.maximize_window()"
   ]
  },
  {
   "cell_type": "code",
   "execution_count": 39,
   "id": "73d49e18-78af-454a-964e-0211eb306d67",
   "metadata": {},
   "outputs": [],
   "source": [
    "# Acceder candidature simplifiée\n",
    "candidatture_simplifiee = driver.find_element(By.XPATH, \"/html/body/div[6]/div[3]/div[4]/section/div/section/div/div/div/ul/li[7]/div/button\")\n",
    "candidatture_simplifiee.click()\n",
    "time.sleep(3)"
   ]
  },
  {
   "cell_type": "code",
   "execution_count": 40,
   "id": "53fe4ae1-1381-4ede-bdae-c1fae3f27145",
   "metadata": {},
   "outputs": [],
   "source": [
    "# filtrer stage/alternance\n",
    "tousLesFiltres = driver.find_element(By.XPATH, \"/html/body/div[6]/div[3]/div[4]/section/div/section/div/div/div/div/div/button\")\n",
    "tousLesFiltres.click()\n",
    "time.sleep(2)\n",
    "stageAlternant = driver.find_element(By.XPATH,\"/html/body/div[3]/div/div/div[2]/ul/li[3]/fieldset/div/ul/li[1]/label\")\n",
    "if (not stageAlternant.is_selected()):\n",
    "    stageAlternant.click()\n",
    "\n"
   ]
  },
  {
   "cell_type": "code",
   "execution_count": 43,
   "id": "38d4b989",
   "metadata": {},
   "outputs": [],
   "source": [
    "# Filtrer sur dernieres 24h\n",
    "derniere24h = driver.find_element(By.XPATH, \"/html/body/div[3]/div/div/div[2]/ul/li[2]/fieldset/div/ul/li[4]/label\")\n",
    "if (not derniere24h.is_selected()):\n",
    "    derniere24h.click()\n",
    "# close filter tab\n",
    "time.sleep(2)\n",
    "closeFiltres= driver.find_element(By.XPATH, \"/html/body/div[3]/div/div/div[3]/div/button[2]\")\n",
    "closeFiltres.click()\n"
   ]
  },
  {
   "cell_type": "code",
   "execution_count": null,
   "id": "ae946bdc-daa0-437d-ac0c-987b84d5ca3d",
   "metadata": {},
   "outputs": [],
   "source": [
    "# End \n",
    "#driver.quit()"
   ]
  },
  {
   "cell_type": "code",
   "execution_count": 54,
   "id": "3f0e00c7-c13b-493e-9f84-1f23b9ff9de1",
   "metadata": {},
   "outputs": [
    {
     "name": "stdout",
     "output_type": "stream",
     "text": [
      "25\n",
      "4\n",
      "0\n",
      "Postuler button not found. Exiting loop.\n",
      "3\n",
      "0\n",
      "Postuler button not found. Exiting loop.\n"
     ]
    },
    {
     "ename": "KeyboardInterrupt",
     "evalue": "",
     "output_type": "error",
     "traceback": [
      "\u001b[1;31m---------------------------------------------------------------------------\u001b[0m",
      "\u001b[1;31mKeyboardInterrupt\u001b[0m                         Traceback (most recent call last)",
      "Cell \u001b[1;32mIn[54], line 82\u001b[0m\n\u001b[0;32m     80\u001b[0m     closeThis \u001b[38;5;241m=\u001b[39m driver\u001b[38;5;241m.\u001b[39mfind_element(By\u001b[38;5;241m.\u001b[39mXPATH, \u001b[38;5;124m\"\u001b[39m\u001b[38;5;124m/html/body/div[3]/div/div/button\u001b[39m\u001b[38;5;124m\"\u001b[39m)\n\u001b[0;32m     81\u001b[0m     closeThis\u001b[38;5;241m.\u001b[39mclick()\n\u001b[1;32m---> 82\u001b[0m     \u001b[43mtime\u001b[49m\u001b[38;5;241;43m.\u001b[39;49m\u001b[43msleep\u001b[49m\u001b[43m(\u001b[49m\u001b[38;5;241;43m2\u001b[39;49m\u001b[43m)\u001b[49m\n\u001b[0;32m     87\u001b[0m     \u001b[38;5;66;03m# fermerCandidatureSimple = driver.find_element(By.XPATH,\"/html/body/div[3]/div/div/button\")\u001b[39;00m\n\u001b[0;32m     88\u001b[0m     \u001b[38;5;66;03m# fermerCandidatureSimple.click()\u001b[39;00m\n\u001b[0;32m     89\u001b[0m     \u001b[38;5;66;03m# time.sleep(1)\u001b[39;00m\n\u001b[1;32m   (...)\u001b[0m\n\u001b[0;32m    101\u001b[0m \n\u001b[0;32m    102\u001b[0m \u001b[38;5;66;03m# Revenir à la liste des offres\u001b[39;00m\n\u001b[0;32m    103\u001b[0m driver\u001b[38;5;241m.\u001b[39mback()\n",
      "\u001b[1;31mKeyboardInterrupt\u001b[0m: "
     ]
    }
   ],
   "source": [
    "from selenium.common.exceptions import NoSuchElementException\n",
    "import random\n",
    "\n",
    "# ul off li containing jobs\n",
    "time.sleep(2)\n",
    "offres = driver.find_elements(By.XPATH, \"/html/body/div[6]/div[3]/div[4]/div/div/main/div/div[1]/div/ul/li\")\n",
    "print(len(offres))\n",
    "#for offre in offres:\n",
    "for offre in offres:\n",
    "    time.sleep(2)\n",
    "    offre.click()\n",
    "    time.sleep(2)\n",
    "    # Click sur 1er bouton: Candidature simplifee\n",
    "    try:\n",
    "        candidatureSimple=driver.find_element(By.XPATH, \"/html/body/div[6]/div[3]/div[4]/div/div/main/div/div[2]/div/div[2]/div/div[1]/div/div[1]/div/div[1]/div[1]/div[4]/div/div/div/button\")\n",
    "        \n",
    "        candidatureSimple.click()\n",
    "        time.sleep(2)\n",
    "    except NoSuchElementException:\n",
    "        print(\"Already Applied !\")\n",
    "        time.sleep(1)\n",
    "        continue\n",
    "        \n",
    "    try:\n",
    "        clickbuttonPostuler = driver.find_element(By.XPATH, \"/html/body/div[3]/div/div/div[2]/div/div[2]/form/footer/div[2]/button\")\n",
    "        clickbuttonPostuler.click()\n",
    "        time.sleep(1)\n",
    "    except NoSuchElementException:\n",
    "        pass\n",
    "    \n",
    "\n",
    "\n",
    "    while True:\n",
    "        try:\n",
    "        \n",
    "            clickbuttonPostuler = driver.find_element(By.XPATH, \"/html/body/div[3]/div/div/div[2]/div/div[2]/form/footer/div[2]/button[2]\")\n",
    "            clickbuttonPostuler.click()\n",
    "            # You might want to add some additional logic or break condition here\n",
    "            time.sleep(2)  # Add a short delay to allow for page changes or other actions\n",
    "            \n",
    "            try:\n",
    "                listDivs = driver.find_elements(By.XPATH, \"/html/body/div[3]/div/div/div[2]/div/div[2]/form/div/div/div\")\n",
    "                print(len(listDivs))\n",
    "                for div in listDivs:\n",
    "                    try:\n",
    "\n",
    "                        inputElement = div.find_element(By.XPATH, \".//div/div/div[1]/div/input\")\n",
    "                        if not inputElement.get_attribute(\"value\"):\n",
    "                            inputElement.send_keys(str(int(random.uniform(1, 2))))\n",
    "                    except:\n",
    "                        pass\n",
    "\n",
    "            except NoSuchElementException:\n",
    "                pass\n",
    "        \n",
    "        except NoSuchElementException:\n",
    "            print(\"Postuler button not found. Exiting loop.\")\n",
    "            break\n",
    "\n",
    "    \n",
    "    \n",
    "    try:\n",
    "        clickbuttonEnvoi = driver.find_element(By.XPATH, \"/html/body/div[3]/div/div/div[2]/div/div[2]/div/footer/div[3]/button[2]\")\n",
    "        clickbuttonEnvoi.click()\n",
    "    except NoSuchElementException:\n",
    "        try:\n",
    "            autreEnvoi = driver.find_element(By.XPATH, \"/html/body/div[3]/div/div/div[2]/div/div[2]/div/footer/div[2]/button[2]\")\n",
    "            autreEnvoi.click()\n",
    "        except NoSuchElementException:\n",
    "            try:\n",
    "                finEnvoi = driver.find_element(By.XPATH, \"/html/body/div[3]/div/div/div[2]/div/div/form/footer/div[3]/button\")\n",
    "                finEnvoi.click()\n",
    "            except NoSuchElementException:\n",
    "                finEnvoi2 = driver.find_element(By.XPATH, \"/html/body/div[3]/div/div/div[2]/div/div/form/footer/div[2]/button\")\n",
    "                finEnvoi2.click()\n",
    "            \n",
    "    \n",
    "    time.sleep(2)\n",
    "\n",
    "    closeThis = driver.find_element(By.XPATH, \"/html/body/div[3]/div/div/button\")\n",
    "    closeThis.click()\n",
    "    time.sleep(2)\n",
    "    \n",
    "\n",
    "\n",
    "\n",
    "    # fermerCandidatureSimple = driver.find_element(By.XPATH,\"/html/body/div[3]/div/div/button\")\n",
    "    # fermerCandidatureSimple.click()\n",
    "    # time.sleep(1)\n",
    "    # confirmFermerCandidatureSimple = driver.find_element(By.XPATH, \"/html/body/div[3]/div[2]/div/div[3]/button[1]\")\n",
    "    # confirmFermerCandidatureSimple.click()\n",
    "    \n",
    "    \n",
    "\n",
    "# Postuler à l'offre\n",
    "# postuler_button = driver.find_elements(By.XPATH, \"/html/body/div[6]/div[3]/div[4]/div/div/main/div/div[2]/div/div[2]/div/div[1]/div/div[1]/div/div[1]/div[1]/div[4]/div/div/div/button\")\n",
    "# postuler_button.click()\n",
    "# time.sleep(2)\n",
    "\n",
    "# Vous pouvez ajouter ici le code pour remplir le formulaire de candidature\n",
    "\n",
    "# Revenir à la liste des offres\n",
    "driver.back()\n",
    "time.sleep(2)\n"
   ]
  },
  {
   "cell_type": "code",
   "execution_count": null,
   "id": "45646c23",
   "metadata": {},
   "outputs": [],
   "source": [
    "\n",
    "\n",
    "\n",
    "while True:\n",
    "    try:\n",
    "        clickbuttonPostuler = driver.find_element(By.XPATH, \"/html/body/div[3]/div/div/div[2]/div/div[2]/div/footer/div[2]/button[2]\")\n",
    "        clickbuttonPostuler.click()\n",
    "        # You might want to add some additional logic or break condition here\n",
    "        time.sleep(2)  # Add a short delay to allow for page changes or other actions\n",
    "    except NoSuchElementException:\n",
    "        print(\"Postuler button not found. Exiting loop.\")\n",
    "        break"
   ]
  }
 ],
 "metadata": {
  "kernelspec": {
   "display_name": "Python 3 (ipykernel)",
   "language": "python",
   "name": "python3"
  },
  "language_info": {
   "codemirror_mode": {
    "name": "ipython",
    "version": 3
   },
   "file_extension": ".py",
   "mimetype": "text/x-python",
   "name": "python",
   "nbconvert_exporter": "python",
   "pygments_lexer": "ipython3",
   "version": "3.12.1"
  }
 },
 "nbformat": 4,
 "nbformat_minor": 5
}
