{
 "cells": [
  {
   "cell_type": "code",
   "execution_count": 12,
   "id": "f45d2de2-bf38-4f43-867b-7f9886111879",
   "metadata": {},
   "outputs": [],
   "source": [
    "from selenium import webdriver\n",
    "from selenium.webdriver.common.keys import Keys\n",
    "from selenium.webdriver.common.by import By\n",
    "from selenium import webdriver\n",
    "from selenium.webdriver.chrome.service import Service\n",
    "from webdriver_manager.chrome import ChromeDriverManager\n",
    "import time\n",
    "\n",
    "# Paramètres\n",
    "email = \"example@mail.com\"\n",
    "mot_de_passe = \"password\"\n",
    "url_linkedin = \"https://www.linkedin.com/\"\n",
    "\n",
    "# Initialiser le navigateur\n",
    "driver = webdriver.Chrome(service=Service(ChromeDriverManager().install()))  # Assurez-vous d'avoir le pilote Chrome installé\n",
    "\n",
    "# Accéder à LinkedIn\n",
    "driver.get(url_linkedin)\n",
    "\n",
    "\n"
   ]
  },
  {
   "cell_type": "code",
   "execution_count": 13,
   "id": "4c760b5a-ded0-4b60-b126-58c7dfbe7b4f",
   "metadata": {},
   "outputs": [],
   "source": [
    "# Accept cookies \n",
    "cookies = driver.find_element(By.XPATH,'/html/body/div[1]/div/section/div/div[2]/button[1]')\n",
    "cookies.click()\n",
    "time.sleep(3)"
   ]
  },
  {
   "cell_type": "code",
   "execution_count": 14,
   "id": "c809d400-4759-4440-b3f6-016512ba1730",
   "metadata": {},
   "outputs": [],
   "source": [
    "# Remplir le formulaire de connexion\n",
    "email_input = driver.find_element(By.XPATH, \"/html/body/main/section[1]/div/div/form/div[1]/div[1]/div/div/input\")\n",
    "password_input = driver.find_element(By.XPATH, \"/html/body/main/section[1]/div/div/form/div[1]/div[2]/div/div/input\")\n",
    "driver.find_element\n",
    "\n",
    "email_input.send_keys(email)\n",
    "password_input.send_keys(mot_de_passe)\n",
    "\n",
    "# Envoyer le formulaire de connexion\n",
    "password_input.send_keys(Keys.RETURN)\n",
    "\n",
    "# Attendre que la page se charge\n",
    "time.sleep(3)"
   ]
  },
  {
   "cell_type": "code",
   "execution_count": 15,
   "id": "bef01c99-8312-447e-8970-3ce11baa4190",
   "metadata": {},
   "outputs": [],
   "source": [
    "emplois = driver.find_element(By.XPATH,\"/html/body/div[6]/header/div/nav/ul/li[3]/a\")\n",
    "emplois.click()\n",
    "time.sleep(6)"
   ]
  },
  {
   "cell_type": "code",
   "execution_count": 16,
   "id": "33932887-b6b8-4d08-894c-a95405d6ce83",
   "metadata": {},
   "outputs": [],
   "source": [
    "recherche = driver.find_element(By.XPATH,'/html/body/div[6]/header/div/div/div/div[2]/div[2]/div/div/input[1]')\n",
    "recherche.send_keys('informatique')\n",
    "time.sleep(2)\n",
    "# Simuler la pression de la touche \"Entrée\"\n",
    "recherche.send_keys(Keys.RETURN)\n",
    "time.sleep(4)\n",
    "driver.maximize_window()"
   ]
  },
  {
   "cell_type": "code",
   "execution_count": 17,
   "id": "73d49e18-78af-454a-964e-0211eb306d67",
   "metadata": {},
   "outputs": [],
   "source": [
    "# Acceder candidature simplifiée\n",
    "candidatture_simplifiee = driver.find_element(By.XPATH, \"/html/body/div[6]/div[3]/div[4]/section/div/section/div/div/div/ul/li[7]/div/button\")\n",
    "candidatture_simplifiee.click()\n",
    "time.sleep(3)"
   ]
  },
  {
   "cell_type": "code",
   "execution_count": 18,
   "id": "53fe4ae1-1381-4ede-bdae-c1fae3f27145",
   "metadata": {},
   "outputs": [],
   "source": [
    "# filtrer stage/alternance\n",
    "tousLesFiltres = driver.find_element(By.XPATH, \"/html/body/div[6]/div[3]/div[4]/section/div/section/div/div/div/div/div/button\")\n",
    "tousLesFiltres.click()\n",
    "time.sleep(2)\n",
    "stageAlternant = driver.find_element(By.XPATH,\"/html/body/div[3]/div/div/div[2]/ul/li[3]/fieldset/div/ul/li[1]/label\")\n",
    "if (not stageAlternant.is_selected()):\n",
    "    stageAlternant.click()\n",
    "\n",
    "time.sleep(2)\n",
    "closeFiltres= driver.find_element(By.XPATH, \"/html/body/div[3]/div/div/div[3]/div/button[2]\")\n",
    "closeFiltres.click()"
   ]
  },
  {
   "cell_type": "code",
   "execution_count": 19,
   "id": "ae946bdc-daa0-437d-ac0c-987b84d5ca3d",
   "metadata": {},
   "outputs": [],
   "source": [
    "# End \n",
    "#driver.quit()"
   ]
  },
  {
   "cell_type": "code",
   "execution_count": 21,
   "id": "3f0e00c7-c13b-493e-9f84-1f23b9ff9de1",
   "metadata": {},
   "outputs": [
    {
     "name": "stdout",
     "output_type": "stream",
     "text": [
      "25\n",
      "Already Applied !\n",
      "Already Applied !\n",
      "Already Applied !\n",
      "Already Applied !\n",
      "Already Applied !\n",
      "Postuler button not found. Exiting loop.\n",
      "\n",
      "Already Applied !\n",
      "Postuler button not found. Exiting loop.\n",
      "\n",
      "Postuler button not found. Exiting loop.\n",
      "\n",
      "Already Applied !\n",
      "Postuler button not found. Exiting loop.\n",
      "\n"
     ]
    },
    {
     "ename": "NoSuchElementException",
     "evalue": "Message: no such element: Unable to locate element: {\"method\":\"xpath\",\"selector\":\"/html/body/div[3]/div/div/div[2]/div/div[2]/form/footer/div[2]/button\"}\n  (Session info: chrome=120.0.6099.129); For documentation on this error, please visit: https://www.selenium.dev/documentation/webdriver/troubleshooting/errors#no-such-element-exception\nStacktrace:\n\tGetHandleVerifier [0x01476EE3+174339]\n\t(No symbol) [0x013A0A51]\n\t(No symbol) [0x010B6FF6]\n\t(No symbol) [0x010E9876]\n\t(No symbol) [0x010E9C2C]\n\t(No symbol) [0x0111BD42]\n\t(No symbol) [0x01107054]\n\t(No symbol) [0x0111A104]\n\t(No symbol) [0x01106DA6]\n\t(No symbol) [0x010E1034]\n\t(No symbol) [0x010E1F8D]\n\tGetHandleVerifier [0x01514B1C+820540]\n\tsqlite3_dbdata_init [0x015D53EE+653550]\n\tsqlite3_dbdata_init [0x015D4E09+652041]\n\tsqlite3_dbdata_init [0x015C97CC+605388]\n\tsqlite3_dbdata_init [0x015D5D9B+656027]\n\t(No symbol) [0x013AFE6C]\n\t(No symbol) [0x013A83B8]\n\t(No symbol) [0x013A84DD]\n\t(No symbol) [0x01395818]\n\tBaseThreadInitThunk [0x76837BA9+25]\n\tRtlInitializeExceptionChain [0x776DBD2B+107]\n\tRtlClearBits [0x776DBCAF+191]\n",
     "output_type": "error",
     "traceback": [
      "\u001b[1;31m---------------------------------------------------------------------------\u001b[0m",
      "\u001b[1;31mNoSuchElementException\u001b[0m                    Traceback (most recent call last)",
      "Cell \u001b[1;32mIn[21], line 25\u001b[0m\n\u001b[0;32m     21\u001b[0m     time\u001b[38;5;241m.\u001b[39msleep(\u001b[38;5;241m1\u001b[39m)\n\u001b[0;32m     22\u001b[0m     \u001b[38;5;28;01mcontinue\u001b[39;00m\n\u001b[1;32m---> 25\u001b[0m clickbuttonPostuler \u001b[38;5;241m=\u001b[39m \u001b[43mdriver\u001b[49m\u001b[38;5;241;43m.\u001b[39;49m\u001b[43mfind_element\u001b[49m\u001b[43m(\u001b[49m\u001b[43mBy\u001b[49m\u001b[38;5;241;43m.\u001b[39;49m\u001b[43mXPATH\u001b[49m\u001b[43m,\u001b[49m\u001b[43m \u001b[49m\u001b[38;5;124;43m\"\u001b[39;49m\u001b[38;5;124;43m/html/body/div[3]/div/div/div[2]/div/div[2]/form/footer/div[2]/button\u001b[39;49m\u001b[38;5;124;43m\"\u001b[39;49m\u001b[43m)\u001b[49m\n\u001b[0;32m     26\u001b[0m clickbuttonPostuler\u001b[38;5;241m.\u001b[39mclick()\n\u001b[0;32m     27\u001b[0m time\u001b[38;5;241m.\u001b[39msleep(\u001b[38;5;241m1\u001b[39m)\n",
      "File \u001b[1;32mc:\\Users\\aitou\\AppData\\Local\\Programs\\Python\\Python312\\Lib\\site-packages\\selenium\\webdriver\\remote\\webdriver.py:742\u001b[0m, in \u001b[0;36mWebDriver.find_element\u001b[1;34m(self, by, value)\u001b[0m\n\u001b[0;32m    739\u001b[0m     by \u001b[38;5;241m=\u001b[39m By\u001b[38;5;241m.\u001b[39mCSS_SELECTOR\n\u001b[0;32m    740\u001b[0m     value \u001b[38;5;241m=\u001b[39m \u001b[38;5;124mf\u001b[39m\u001b[38;5;124m'\u001b[39m\u001b[38;5;124m[name=\u001b[39m\u001b[38;5;124m\"\u001b[39m\u001b[38;5;132;01m{\u001b[39;00mvalue\u001b[38;5;132;01m}\u001b[39;00m\u001b[38;5;124m\"\u001b[39m\u001b[38;5;124m]\u001b[39m\u001b[38;5;124m'\u001b[39m\n\u001b[1;32m--> 742\u001b[0m \u001b[38;5;28;01mreturn\u001b[39;00m \u001b[38;5;28;43mself\u001b[39;49m\u001b[38;5;241;43m.\u001b[39;49m\u001b[43mexecute\u001b[49m\u001b[43m(\u001b[49m\u001b[43mCommand\u001b[49m\u001b[38;5;241;43m.\u001b[39;49m\u001b[43mFIND_ELEMENT\u001b[49m\u001b[43m,\u001b[49m\u001b[43m \u001b[49m\u001b[43m{\u001b[49m\u001b[38;5;124;43m\"\u001b[39;49m\u001b[38;5;124;43musing\u001b[39;49m\u001b[38;5;124;43m\"\u001b[39;49m\u001b[43m:\u001b[49m\u001b[43m \u001b[49m\u001b[43mby\u001b[49m\u001b[43m,\u001b[49m\u001b[43m \u001b[49m\u001b[38;5;124;43m\"\u001b[39;49m\u001b[38;5;124;43mvalue\u001b[39;49m\u001b[38;5;124;43m\"\u001b[39;49m\u001b[43m:\u001b[49m\u001b[43m \u001b[49m\u001b[43mvalue\u001b[49m\u001b[43m}\u001b[49m\u001b[43m)\u001b[49m[\u001b[38;5;124m\"\u001b[39m\u001b[38;5;124mvalue\u001b[39m\u001b[38;5;124m\"\u001b[39m]\n",
      "File \u001b[1;32mc:\\Users\\aitou\\AppData\\Local\\Programs\\Python\\Python312\\Lib\\site-packages\\selenium\\webdriver\\remote\\webdriver.py:348\u001b[0m, in \u001b[0;36mWebDriver.execute\u001b[1;34m(self, driver_command, params)\u001b[0m\n\u001b[0;32m    346\u001b[0m response \u001b[38;5;241m=\u001b[39m \u001b[38;5;28mself\u001b[39m\u001b[38;5;241m.\u001b[39mcommand_executor\u001b[38;5;241m.\u001b[39mexecute(driver_command, params)\n\u001b[0;32m    347\u001b[0m \u001b[38;5;28;01mif\u001b[39;00m response:\n\u001b[1;32m--> 348\u001b[0m     \u001b[38;5;28;43mself\u001b[39;49m\u001b[38;5;241;43m.\u001b[39;49m\u001b[43merror_handler\u001b[49m\u001b[38;5;241;43m.\u001b[39;49m\u001b[43mcheck_response\u001b[49m\u001b[43m(\u001b[49m\u001b[43mresponse\u001b[49m\u001b[43m)\u001b[49m\n\u001b[0;32m    349\u001b[0m     response[\u001b[38;5;124m\"\u001b[39m\u001b[38;5;124mvalue\u001b[39m\u001b[38;5;124m\"\u001b[39m] \u001b[38;5;241m=\u001b[39m \u001b[38;5;28mself\u001b[39m\u001b[38;5;241m.\u001b[39m_unwrap_value(response\u001b[38;5;241m.\u001b[39mget(\u001b[38;5;124m\"\u001b[39m\u001b[38;5;124mvalue\u001b[39m\u001b[38;5;124m\"\u001b[39m, \u001b[38;5;28;01mNone\u001b[39;00m))\n\u001b[0;32m    350\u001b[0m     \u001b[38;5;28;01mreturn\u001b[39;00m response\n",
      "File \u001b[1;32mc:\\Users\\aitou\\AppData\\Local\\Programs\\Python\\Python312\\Lib\\site-packages\\selenium\\webdriver\\remote\\errorhandler.py:229\u001b[0m, in \u001b[0;36mErrorHandler.check_response\u001b[1;34m(self, response)\u001b[0m\n\u001b[0;32m    227\u001b[0m         alert_text \u001b[38;5;241m=\u001b[39m value[\u001b[38;5;124m\"\u001b[39m\u001b[38;5;124malert\u001b[39m\u001b[38;5;124m\"\u001b[39m]\u001b[38;5;241m.\u001b[39mget(\u001b[38;5;124m\"\u001b[39m\u001b[38;5;124mtext\u001b[39m\u001b[38;5;124m\"\u001b[39m)\n\u001b[0;32m    228\u001b[0m     \u001b[38;5;28;01mraise\u001b[39;00m exception_class(message, screen, stacktrace, alert_text)  \u001b[38;5;66;03m# type: ignore[call-arg]  # mypy is not smart enough here\u001b[39;00m\n\u001b[1;32m--> 229\u001b[0m \u001b[38;5;28;01mraise\u001b[39;00m exception_class(message, screen, stacktrace)\n",
      "\u001b[1;31mNoSuchElementException\u001b[0m: Message: no such element: Unable to locate element: {\"method\":\"xpath\",\"selector\":\"/html/body/div[3]/div/div/div[2]/div/div[2]/form/footer/div[2]/button\"}\n  (Session info: chrome=120.0.6099.129); For documentation on this error, please visit: https://www.selenium.dev/documentation/webdriver/troubleshooting/errors#no-such-element-exception\nStacktrace:\n\tGetHandleVerifier [0x01476EE3+174339]\n\t(No symbol) [0x013A0A51]\n\t(No symbol) [0x010B6FF6]\n\t(No symbol) [0x010E9876]\n\t(No symbol) [0x010E9C2C]\n\t(No symbol) [0x0111BD42]\n\t(No symbol) [0x01107054]\n\t(No symbol) [0x0111A104]\n\t(No symbol) [0x01106DA6]\n\t(No symbol) [0x010E1034]\n\t(No symbol) [0x010E1F8D]\n\tGetHandleVerifier [0x01514B1C+820540]\n\tsqlite3_dbdata_init [0x015D53EE+653550]\n\tsqlite3_dbdata_init [0x015D4E09+652041]\n\tsqlite3_dbdata_init [0x015C97CC+605388]\n\tsqlite3_dbdata_init [0x015D5D9B+656027]\n\t(No symbol) [0x013AFE6C]\n\t(No symbol) [0x013A83B8]\n\t(No symbol) [0x013A84DD]\n\t(No symbol) [0x01395818]\n\tBaseThreadInitThunk [0x76837BA9+25]\n\tRtlInitializeExceptionChain [0x776DBD2B+107]\n\tRtlClearBits [0x776DBCAF+191]\n"
     ]
    }
   ],
   "source": [
    "from selenium.common.exceptions import NoSuchElementException\n",
    "\n",
    "\n",
    "# ul off li containing jobs\n",
    "time.sleep(2)\n",
    "offres = driver.find_elements(By.XPATH, \"/html/body/div[6]/div[3]/div[4]/div/div/main/div/div[1]/div/ul/li\")\n",
    "print(len(offres))\n",
    "#for offre in offres:\n",
    "for offre in offres:\n",
    "    time.sleep(2)\n",
    "    offre.click()\n",
    "    time.sleep(2)\n",
    "    # Click sur 1er bouton: Candidature simplifee\n",
    "    try:\n",
    "        candidatureSimple=driver.find_element(By.XPATH, \"/html/body/div[6]/div[3]/div[4]/div/div/main/div/div[2]/div/div[2]/div/div[1]/div/div[1]/div/div[1]/div[1]/div[4]/div/div/div/button\")\n",
    "        \n",
    "        candidatureSimple.click()\n",
    "        time.sleep(2)\n",
    "    except NoSuchElementException:\n",
    "        print(\"Already Applied !\")\n",
    "        time.sleep(1)\n",
    "        continue\n",
    "        \n",
    "    \n",
    "    clickbuttonPostuler = driver.find_element(By.XPATH, \"/html/body/div[3]/div/div/div[2]/div/div[2]/form/footer/div[2]/button\")\n",
    "    clickbuttonPostuler.click()\n",
    "    time.sleep(1)\n",
    "    \n",
    "\n",
    "\n",
    "    while True:\n",
    "        try:\n",
    "            clickbuttonPostuler = driver.find_element(By.XPATH, \"/html/body/div[3]/div/div/div[2]/div/div[2]/form/footer/div[2]/button[2]\")\n",
    "            clickbuttonPostuler.click()\n",
    "            # You might want to add some additional logic or break condition here\n",
    "            time.sleep(2)  # Add a short delay to allow for page changes or other actions\n",
    "        except NoSuchElementException:\n",
    "            print(\"Postuler button not found. Exiting loop.\")\n",
    "            break\n",
    "\n",
    "    \n",
    "    \n",
    "    try:\n",
    "        clickbuttonEnvoi = driver.find_element(By.XPATH, \"/html/body/div[3]/div/div/div[2]/div/div[2]/div/footer/div[3]/button[2]\")\n",
    "    except NoSuchElementException:\n",
    "        autreEnvoi = driver.find_element(By.XPATH, \"/html/body/div[3]/div/div/div[2]/div/div[2]/div/footer/div[2]/button[2]\")\n",
    "        autreEnvoi.click()\n",
    "    clickbuttonEnvoi.click()\n",
    "    time.sleep(2)\n",
    "\n",
    "    closeThis = driver.find_element(By.XPATH, \"/html/body/div[3]/div/div/button\")\n",
    "    closeThis.click()\n",
    "    time.sleep(2)\n",
    "    \n",
    "\n",
    "\n",
    "\n",
    "    # fermerCandidatureSimple = driver.find_element(By.XPATH,\"/html/body/div[3]/div/div/button\")\n",
    "    # fermerCandidatureSimple.click()\n",
    "    # time.sleep(1)\n",
    "    # confirmFermerCandidatureSimple = driver.find_element(By.XPATH, \"/html/body/div[3]/div[2]/div/div[3]/button[1]\")\n",
    "    # confirmFermerCandidatureSimple.click()\n",
    "    \n",
    "    \n",
    "\n",
    "# Postuler à l'offre\n",
    "# postuler_button = driver.find_elements(By.XPATH, \"/html/body/div[6]/div[3]/div[4]/div/div/main/div/div[2]/div/div[2]/div/div[1]/div/div[1]/div/div[1]/div[1]/div[4]/div/div/div/button\")\n",
    "# postuler_button.click()\n",
    "# time.sleep(2)\n",
    "\n",
    "# Vous pouvez ajouter ici le code pour remplir le formulaire de candidature\n",
    "\n",
    "# Revenir à la liste des offres\n",
    "driver.back()\n",
    "time.sleep(2)\n"
   ]
  },
  {
   "cell_type": "code",
   "execution_count": null,
   "id": "45646c23",
   "metadata": {},
   "outputs": [],
   "source": [
    "\n",
    "\n",
    "\n",
    "while True:\n",
    "    try:\n",
    "        clickbuttonPostuler = driver.find_element(By.XPATH, \"/html/body/div[3]/div/div/div[2]/div/div[2]/div/footer/div[2]/button[2]\")\n",
    "        clickbuttonPostuler.click()\n",
    "        # You might want to add some additional logic or break condition here\n",
    "        time.sleep(2)  # Add a short delay to allow for page changes or other actions\n",
    "    except NoSuchElementException:\n",
    "        print(\"Postuler button not found. Exiting loop.\")\n",
    "        break"
   ]
  }
 ],
 "metadata": {
  "kernelspec": {
   "display_name": "Python 3 (ipykernel)",
   "language": "python",
   "name": "python3"
  },
  "language_info": {
   "codemirror_mode": {
    "name": "ipython",
    "version": 3
   },
   "file_extension": ".py",
   "mimetype": "text/x-python",
   "name": "python",
   "nbconvert_exporter": "python",
   "pygments_lexer": "ipython3",
   "version": "3.12.1"
  }
 },
 "nbformat": 4,
 "nbformat_minor": 5
}
