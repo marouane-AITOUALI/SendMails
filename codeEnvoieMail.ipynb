{
 "cells": [
  {
   "cell_type": "code",
   "execution_count": 16,
   "id": "605b170c-fca8-418d-94ee-919862717d93",
   "metadata": {},
   "outputs": [
    {
     "name": "stdout",
     "output_type": "stream",
     "text": [
      "aitoualimarouane@gmail.com\n",
      "E-mails envoyés avec succès.\n"
     ]
    }
   ],
   "source": [
    "import openpyxl\n",
    "import smtplib\n",
    "from email.mime.text import MIMEText\n",
    "from email.mime.multipart import MIMEMultipart\n",
    "\n",
    "# Fonction pour envoyer un email\n",
    "def envoyer_email(destinataire, sujet, corps):\n",
    "    # Paramètres du serveur SMTP\n",
    "    smtp_server = 'smtp.gmail.com'\n",
    "    smtp_port = 587\n",
    "    # hna dir adresse mail dialk\n",
    "    smtp_username = 'aitoualimarouane@gmail.com'\n",
    "    # Changer mdp dir mdp d'applications\n",
    "    # N.B: N'utilisez pas mdp de votre mail si vous avez activé la validation en 2 étapes\n",
    "    # Vous devez créer un mdp d'applications dans sécurité de votre compte google\n",
    "    # Sinon Utilisez votre mdp\n",
    "    smtp_password = 'mdp d\\'application configurez google'\n",
    "\n",
    "    # Créer le message\n",
    "    message = MIMEMultipart()\n",
    "    message['From'] = smtp_username\n",
    "    message['To'] = destinataire\n",
    "    message['Subject'] = sujet\n",
    "\n",
    "    # Ajouter le corps du message\n",
    "    message.attach(MIMEText(corps, 'plain'))\n",
    "\n",
    "    # Établir la connexion avec le serveur SMTP\n",
    "    server = smtplib.SMTP(smtp_server, smtp_port)\n",
    "    server.starttls()\n",
    "    server.login(smtp_username, smtp_password)\n",
    "\n",
    "    # Envoyer l'e-mail\n",
    "    server.sendmail(smtp_username, destinataire, message.as_string())\n",
    "\n",
    "    # Fermer la connexion\n",
    "    server.quit()\n",
    "\n",
    "# Charger le fichier Excel\n",
    "fichier_excel = 'testMail.xlsx'\n",
    "classeur = openpyxl.load_workbook(fichier_excel)\n",
    "feuille = classeur.worksheets[0]\n",
    "\n",
    "\n",
    "# Parcourir les lignes du fichier Excel\n",
    "for ligne in feuille.iter_rows(min_row=2,values_only=True):\n",
    "    nom_entreprise, email = ligne[0], ligne[1]\n",
    "    print(email)\n",
    "    # hna dir dak sujet d mail dialk rah nom d entreprise kayn f variable smitha nom_entreprise\n",
    "    # o mail dial entreprise kayn f variable smitha email\n",
    "    sujet_email = 'Test_Envoi_Mails'\n",
    "    \n",
    "    corps_email = f\"Bonjour {nom_entreprise},\\n\\nCeci est le corps de votre email.\"\n",
    "\n",
    "    # Appeler la fonction pour envoyer l'e-mail\n",
    "    envoyer_email(email, sujet_email, corps_email)\n",
    "\n",
    "print(\"E-mails envoyés avec succès.\")\n"
   ]
  },
  {
   "cell_type": "code",
   "execution_count": null,
   "id": "600f97cb-271b-4209-b694-fe466951141a",
   "metadata": {},
   "outputs": [],
   "source": []
  }
 ],
 "metadata": {
  "kernelspec": {
   "display_name": "Python 3 (ipykernel)",
   "language": "python",
   "name": "python3"
  },
  "language_info": {
   "codemirror_mode": {
    "name": "ipython",
    "version": 3
   },
   "file_extension": ".py",
   "mimetype": "text/x-python",
   "name": "python",
   "nbconvert_exporter": "python",
   "pygments_lexer": "ipython3",
   "version": "3.12.1"
  }
 },
 "nbformat": 4,
 "nbformat_minor": 5
}
